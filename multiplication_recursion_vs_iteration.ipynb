{
 "cells": [
  {
   "cell_type": "code",
   "execution_count": 21,
   "id": "a86dce07",
   "metadata": {},
   "outputs": [
    {
     "name": "stdout",
     "output_type": "stream",
     "text": [
      "7006652\n"
     ]
    }
   ],
   "source": [
    "number1 = 1234\n",
    "number2 = 5678\n",
    "\n",
    "temporary = []\n",
    "i = 0\n",
    "j = 1\n",
    "while i < len(str(number2)):\n",
    "    temp = number1 * int(str(number2)[-j])\n",
    "    temp = temp * 10**i\n",
    "    temporary.append(temp)\n",
    "    i = i + 1\n",
    "    j = j + 1\n",
    "\n",
    "    sum = 0\n",
    "for k in temporary:\n",
    "    sum = sum + k\n",
    "print(sum)"
   ]
  },
  {
   "cell_type": "code",
   "execution_count": null,
   "id": "576f9a85",
   "metadata": {},
   "outputs": [],
   "source": [
    "temporary = []\n",
    "i = 0\n",
    "def multiplication_recursion(number1, str):\n",
    "    if len(number2) == 0:\n",
    "        return sum\n",
    "    else:\n",
    "        sum = number1 * int(number2[-1]) * 10**i\n",
    "        i = i + 1\n",
    "        return sum + multiplication_recursion(number1, 'number2[:-1]')\n",
    "        \n",
    "multiplication_recursion(1234, \"5678\")"
   ]
  },
  {
   "cell_type": "code",
   "execution_count": 25,
   "id": "9df6f6b8",
   "metadata": {},
   "outputs": [
    {
     "name": "stdout",
     "output_type": "stream",
     "text": [
      "567\n",
      "8\n"
     ]
    }
   ],
   "source": [
    "number2 = '5678'\n",
    "print(number2[:-1])\n",
    "print(int(number2[-1]))"
   ]
  }
 ],
 "metadata": {
  "kernelspec": {
   "display_name": "Python 3",
   "language": "python",
   "name": "python3"
  },
  "language_info": {
   "codemirror_mode": {
    "name": "ipython",
    "version": 3
   },
   "file_extension": ".py",
   "mimetype": "text/x-python",
   "name": "python",
   "nbconvert_exporter": "python",
   "pygments_lexer": "ipython3",
   "version": "3.8.10"
  }
 },
 "nbformat": 4,
 "nbformat_minor": 5
}
