{
 "cells": [
  {
   "cell_type": "code",
   "execution_count": 2,
   "id": "32bcc708",
   "metadata": {},
   "outputs": [],
   "source": [
    "def is_palindrome_recursive(word):\n",
    "    \"\"\"\n",
    "    This function identifies whether a word is a palindrome recursively.\n",
    "\n",
    "    Parameters\n",
    "    ----------\n",
    "    word : str\n",
    "        Word we wish to check\n",
    "    \n",
    "    Returns\n",
    "    -------\n",
    "    boolean\n",
    "        True if input is a palindrome, False otherwise\n",
    "        \n",
    "    \"\"\"\n",
    "    # your code here\n",
    "    if len(word) <= 1:\n",
    "        return True\n",
    "    elif word[0] != word[-1]:\n",
    "        return False\n",
    "    word = word[1: -1]\n",
    "    return is_palindrome_recursive(word)"
   ]
  },
  {
   "cell_type": "code",
   "execution_count": 4,
   "id": "d82bc5bb",
   "metadata": {},
   "outputs": [],
   "source": [
    "def is_palindrome_iterative(word):\n",
    "    \"\"\"\n",
    "    This function identifies whether a word is a palindrome iteratively.\n",
    "    Parameters\n",
    "    ----------\n",
    "    word : str\n",
    "        Word we wish to check\n",
    "    Returns\n",
    "    -------\n",
    "    bool\n",
    "        True if input is a palindrome, False otherwise       \n",
    "    \"\"\"\n",
    "    ## your code here\n",
    "    result = True\n",
    "    \n",
    "    for i in range(len(word)):\n",
    "        if word[i] != word[-i-1]:\n",
    "            result = False\n",
    "            break\n",
    "            \n",
    "    return result"
   ]
  },
  {
   "cell_type": "code",
   "execution_count": 9,
   "id": "e63aca3f",
   "metadata": {},
   "outputs": [
    {
     "data": {
      "text/plain": [
       "True"
      ]
     },
     "execution_count": 9,
     "metadata": {},
     "output_type": "execute_result"
    }
   ],
   "source": [
    "is_palindrome_recursive('maam')"
   ]
  },
  {
   "cell_type": "code",
   "execution_count": 10,
   "id": "f098b826",
   "metadata": {},
   "outputs": [
    {
     "data": {
      "text/plain": [
       "False"
      ]
     },
     "execution_count": 10,
     "metadata": {},
     "output_type": "execute_result"
    }
   ],
   "source": [
    "is_palindrome_iterative('runner')\n"
   ]
  },
  {
   "cell_type": "code",
   "execution_count": null,
   "id": "dac34b95",
   "metadata": {},
   "outputs": [],
   "source": []
  }
 ],
 "metadata": {
  "kernelspec": {
   "display_name": "Python 3",
   "language": "python",
   "name": "python3"
  },
  "language_info": {
   "codemirror_mode": {
    "name": "ipython",
    "version": 3
   },
   "file_extension": ".py",
   "mimetype": "text/x-python",
   "name": "python",
   "nbconvert_exporter": "python",
   "pygments_lexer": "ipython3",
   "version": "3.8.10"
  }
 },
 "nbformat": 4,
 "nbformat_minor": 5
}
