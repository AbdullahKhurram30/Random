{
 "cells": [
  {
   "cell_type": "code",
   "execution_count": 76,
   "id": "fd8239dd",
   "metadata": {},
   "outputs": [
    {
     "name": "stdout",
     "output_type": "stream",
     "text": [
      "[0]\n",
      "[-1, 1]\n",
      "[-1, 1]\n",
      "[1, 3, 6, 6]\n",
      "[3, 4, 4, 5, 6, 7]\n"
     ]
    }
   ],
   "source": [
    "def insertion_sort(A):\n",
    "    for j in range(1, len(A)):\n",
    "        key = A[j]\n",
    "        i = j - 1\n",
    "        while i >= 0 and A[i] > key:\n",
    "            A[i + 1] = A[i]\n",
    "            i -= 1\n",
    "        A[i + 1] = key\n",
    "    return A\n",
    "\n",
    "print(insertion_sort([0]))\n",
    "print(insertion_sort([-1,1]))\n",
    "print(insertion_sort([1,-1]))\n",
    "print(insertion_sort([1,6,3,6]))\n",
    "print(insertion_sort([7, 3, 5, 4, 6, 4]))"
   ]
  },
  {
   "cell_type": "code",
   "execution_count": 71,
   "id": "56a513b7",
   "metadata": {},
   "outputs": [
    {
     "data": {
      "text/plain": [
       "[1, 2, 3]"
      ]
     },
     "execution_count": 71,
     "metadata": {},
     "output_type": "execute_result"
    }
   ],
   "source": [
    "def bubble_sort(A):\n",
    "    # your code here\n",
    "    #check to see if the list is empty to avoid the for loop checks. Improves efficiency\n",
    "    if A:\n",
    "        for i in range(0, len(A) - 1):\n",
    "            #reversing the range function to get the integers in the opposite order\n",
    "            for j in reversed(range(i + 1, len(A))):\n",
    "                if A[j] < A[j - 1]:\n",
    "                    #due to swapping, we need to store the value in a temp variable\n",
    "                    temp = A[j]\n",
    "                    A[j] = A[j - 1]\n",
    "                    A[j - 1] = temp\n",
    "        return A\n",
    "    else:\n",
    "        print(\"You passed an empty list with nothing to sort\")\n",
    "\n",
    "#generate a random list for a random test\n",
    "import random\n",
    "randomlist = []\n",
    "for i in range(1, 10):\n",
    "    n = random.randint(1, 9)\n",
    "    randomlist.append(n)\n",
    "print(randomlist)\n",
    "        \n",
    "print(bubble_sort([])) #empty list\n",
    "print(bubble_sort([6, 5, 4, 3, 2, 1])) #worst case when smallest is in the last position\n",
    "print(bubble_sort([1, 2, 3, 4, 5, 6])) #best case when it is already sorted\n",
    "print(bubble_sort(randomlist)) #random list"
   ]
  },
  {
   "cell_type": "code",
   "execution_count": 73,
   "id": "797d545e",
   "metadata": {},
   "outputs": [
    {
     "name": "stdout",
     "output_type": "stream",
     "text": [
      "[1, 3, 3, 3, 7, 4, 3, 3, 2]\n",
      "[]\n",
      "[1, 2, 3, 4, 5, 6]\n",
      "[1, 2, 3, 4, 5, 6]\n",
      "[1, 2, 3, 3, 3, 3, 3, 4, 7]\n"
     ]
    }
   ],
   "source": [
    "def selection_sort(A):\n",
    "    if A:\n",
    "        n = len(A)\n",
    "        for i in range(0, n-1):\n",
    "            min = i\n",
    "            for j in range(i + 1, n):\n",
    "                if A[j] < A[min]:\n",
    "                    min = j\n",
    "            temp = A[i]\n",
    "            A[i] = A[min]\n",
    "            A[min] = temp\n",
    "        return A\n",
    "    else:\n",
    "        print(\"You passed an empty list with nothing to sort\")\n",
    "\n",
    "#generate a random list for a random test\n",
    "import random\n",
    "randomlist = []\n",
    "for i in range(1, 10):\n",
    "    n = random.randint(1, 9)\n",
    "    randomlist.append(n)\n",
    "print(randomlist)\n",
    "\n",
    "print(bubble_sort([])) #empty list\n",
    "print(bubble_sort([6, 5, 4, 3, 2, 1])) #worst case when smallest is in the last position\n",
    "print(bubble_sort([1, 2, 3, 4, 5, 6])) #best case when it is already sorted\n",
    "print(bubble_sort(randomlist)) #random list"
   ]
  }
 ],
 "metadata": {
  "kernelspec": {
   "display_name": "Python 3",
   "language": "python",
   "name": "python3"
  },
  "language_info": {
   "codemirror_mode": {
    "name": "ipython",
    "version": 3
   },
   "file_extension": ".py",
   "mimetype": "text/x-python",
   "name": "python",
   "nbconvert_exporter": "python",
   "pygments_lexer": "ipython3",
   "version": "3.8.10"
  }
 },
 "nbformat": 4,
 "nbformat_minor": 5
}
